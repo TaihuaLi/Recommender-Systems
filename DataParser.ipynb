{
 "cells": [
  {
   "cell_type": "markdown",
   "metadata": {
    "collapsed": false
   },
   "source": [
    "## Parser for Amazon Review Dataset (for LibRec)"
   ]
  },
  {
   "cell_type": "markdown",
   "metadata": {},
   "source": [
    "#### Read in review & metadata files and convert them into strict json object"
   ]
  },
  {
   "cell_type": "code",
   "execution_count": 1,
   "metadata": {
    "collapsed": false
   },
   "outputs": [],
   "source": [
    "import json\n",
    "\n",
    "f = open(\"output.strict\", 'w')\n",
    "for l in open(\"Home_and_Kitchen_5.json\"):\n",
    "    f.write(json.dumps(eval(l)) + '\\n')\n",
    "f.close()\n",
    "\n",
    "f2 = open(\"metas\", 'w')\n",
    "for l in open(\"meta_Home_and_Kitchen.json\"):\n",
    "    f2.write(json.dumps(eval(l)) + '\\n')\n",
    "f2.close()"
   ]
  },
  {
   "cell_type": "code",
   "execution_count": 2,
   "metadata": {
    "collapsed": true
   },
   "outputs": [],
   "source": [
    "fi = open('output.strict', 'r')\n",
    "me = open('metas', 'r')"
   ]
  },
  {
   "cell_type": "code",
   "execution_count": 3,
   "metadata": {
    "collapsed": false
   },
   "outputs": [
    {
     "name": "stdout",
     "output_type": "stream",
     "text": [
      "551682\n",
      "436988\n"
     ]
    }
   ],
   "source": [
    "all_reviews = fi.readlines()\n",
    "all_metas = me.readlines()\n",
    "print len(all_reviews)\n",
    "print len(all_metas)"
   ]
  },
  {
   "cell_type": "markdown",
   "metadata": {},
   "source": [
    "#### Sample data"
   ]
  },
  {
   "cell_type": "code",
   "execution_count": 4,
   "metadata": {
    "collapsed": false
   },
   "outputs": [
    {
     "data": {
      "text/plain": [
       "{u'asin': u'0615391206',\n",
       " u'helpful': [0, 0],\n",
       " u'overall': 5.0,\n",
       " u'reviewText': u'My daughter wanted this book and the price on Amazon was the best.  She has already tried one recipe a day after receiving the book.  She seems happy with it.',\n",
       " u'reviewTime': u'10 19, 2013',\n",
       " u'reviewerID': u'APYOBQE6M18AA',\n",
       " u'reviewerName': u'Martin Schwartz',\n",
       " u'summary': u'Best Price',\n",
       " u'unixReviewTime': 1382140800}"
      ]
     },
     "execution_count": 4,
     "metadata": {},
     "output_type": "execute_result"
    }
   ],
   "source": [
    "json.loads(all_reviews[0])"
   ]
  },
  {
   "cell_type": "code",
   "execution_count": 5,
   "metadata": {
    "collapsed": false
   },
   "outputs": [
    {
     "data": {
      "text/plain": [
       "{u'asin': u'0076144011',\n",
       " u'categories': [[u'Home & Kitchen']],\n",
       " u'imUrl': u'http://g-ecx.images-amazon.com/images/G/01/x-site/icons/no-img-sm._CB192198896_.gif',\n",
       " u'salesRank': {u'Books': 6285595},\n",
       " u'title': u'Ninjas, Piranhas, and Galileo'}"
      ]
     },
     "execution_count": 5,
     "metadata": {},
     "output_type": "execute_result"
    }
   ],
   "source": [
    "json.loads(all_metas[0]) ## contain missing data"
   ]
  },
  {
   "cell_type": "markdown",
   "metadata": {
    "collapsed": true
   },
   "source": [
    "#### Metadata is a little complex since it contains missing value"
   ]
  },
  {
   "cell_type": "markdown",
   "metadata": {},
   "source": [
    "##### price"
   ]
  },
  {
   "cell_type": "code",
   "execution_count": 6,
   "metadata": {
    "collapsed": false
   },
   "outputs": [],
   "source": [
    "all_prices = []\n",
    "for meta in all_metas:\n",
    "    meta = json.loads(meta)\n",
    "    try:\n",
    "        all_prices.append(meta['price'])\n",
    "    except KeyError:\n",
    "        continue"
   ]
  },
  {
   "cell_type": "code",
   "execution_count": 7,
   "metadata": {
    "collapsed": false
   },
   "outputs": [
    {
     "name": "stdout",
     "output_type": "stream",
     "text": [
      "minimum 0.01\n",
      "maximum 999.99\n",
      "bin size 250.0\n"
     ]
    }
   ],
   "source": [
    "print 'minimum', min(all_prices)\n",
    "print 'maximum', max(all_prices)\n",
    "print 'bin size', round((max(all_prices)-min(all_prices))/4)"
   ]
  },
  {
   "cell_type": "markdown",
   "metadata": {},
   "source": [
    "Bin into four bins [0.01, 250] [250.01, 500] [500.01, 750] [750.01, 1000]"
   ]
  },
  {
   "cell_type": "markdown",
   "metadata": {},
   "source": [
    "##### related (also bought, also viewed, bought together, buy after viewing)"
   ]
  },
  {
   "cell_type": "markdown",
   "metadata": {},
   "source": [
    "len(bought_together) > 0, bundle_product = 1"
   ]
  },
  {
   "cell_type": "markdown",
   "metadata": {},
   "source": [
    "##### Categories"
   ]
  },
  {
   "cell_type": "markdown",
   "metadata": {},
   "source": [
    "if an item has a category other than 'Home & kitchen', it will be given each category as a feature"
   ]
  },
  {
   "cell_type": "markdown",
   "metadata": {},
   "source": [
    "##### Sales Rank"
   ]
  },
  {
   "cell_type": "code",
   "execution_count": 8,
   "metadata": {
    "collapsed": false
   },
   "outputs": [],
   "source": [
    "SR = {}\n",
    "for meta in all_metas:\n",
    "    meta = json.loads(meta)\n",
    "    try:\n",
    "        srkeys = meta['salesRank'].keys()\n",
    "        for key in srkeys:\n",
    "            if key not in SR:\n",
    "                SR[key] = []\n",
    "                SR[key].append(meta['salesRank'][key])\n",
    "            else:\n",
    "                SR[key].append(meta['salesRank'][key])\n",
    "    except:\n",
    "        continue"
   ]
  },
  {
   "cell_type": "code",
   "execution_count": 9,
   "metadata": {
    "collapsed": false
   },
   "outputs": [
    {
     "name": "stdout",
     "output_type": "stream",
     "text": [
      "For category Arts, Crafts & Sewing, lowest rank is 755215, highest rank is 25\n",
      "For category Jewelry, lowest rank is 1401180, highest rank is 294\n",
      "For category Cell Phones & Accessories, lowest rank is 1565200, highest rank is 42627\n",
      "For category Electronics, lowest rank is 845662, highest rank is 486\n",
      "For category Health & Personal Care, lowest rank is 1406388, highest rank is 228\n",
      "For category Home Improvement, lowest rank is 1638096, highest rank is 16\n",
      "For category Beauty, lowest rank is 1134605, highest rank is 779\n",
      "For category Automotive, lowest rank is 1106761, highest rank is 40\n",
      "For category Video Games, lowest rank is 125061, highest rank is 6233\n",
      "For category Computers & Accessories, lowest rank is 26709, highest rank is 1441\n",
      "For category Grocery & Gourmet Food, lowest rank is 168482, highest rank is 572\n",
      "For category Baby, lowest rank is 348512, highest rank is 140\n",
      "For category Sports &amp; Outdoors, lowest rank is 2970741, highest rank is 70\n",
      "For category Patio, Lawn & Garden, lowest rank is 677775, highest rank is 1\n",
      "For category Pet Supplies, lowest rank is 496825, highest rank is 307\n",
      "For category Camera &amp; Photo, lowest rank is 83730, highest rank is 133\n",
      "For category Home &amp; Kitchen, lowest rank is 5314124, highest rank is 5\n",
      "For category Musical Instruments, lowest rank is 240624, highest rank is 604\n",
      "For category Office Products, lowest rank is 790063, highest rank is 407\n",
      "For category Industrial & Scientific, lowest rank is 771049, highest rank is 8\n",
      "For category Software, lowest rank is 59184, highest rank is 471\n",
      "For category Shoes, lowest rank is 1000248, highest rank is 576\n",
      "For category Toys & Games, lowest rank is 1725235, highest rank is 714\n",
      "For category Watches, lowest rank is 258074, highest rank is 4330\n",
      "For category Books, lowest rank is 6285595, highest rank is 6285595\n",
      "For category Appliances, lowest rank is 17645, highest rank is 1\n",
      "For category Clothing, lowest rank is 3559109, highest rank is 292\n",
      "For category Kitchen & Dining, lowest rank is 979063, highest rank is 2\n"
     ]
    }
   ],
   "source": [
    "for k, vl in SR.items():\n",
    "    print 'For category {}, lowest rank is {}, highest rank is {}'.format(k, max(vl), min(vl))\n",
    "## rank 1 meaning top 1 seller"
   ]
  },
  {
   "cell_type": "markdown",
   "metadata": {},
   "source": [
    "features from sales rank: ['top5sales', 'top100sales', 'top1000sales', 'rankedSales']"
   ]
  },
  {
   "cell_type": "markdown",
   "metadata": {},
   "source": [
    "### generate features"
   ]
  },
  {
   "cell_type": "code",
   "execution_count": 10,
   "metadata": {
    "collapsed": false
   },
   "outputs": [
    {
     "name": "stdout",
     "output_type": "stream",
     "text": [
      "5\n"
     ]
    }
   ],
   "source": [
    "features_dict = {}\n",
    "features_dict['low_price'] = 0\n",
    "features_dict['med_price'] = 1\n",
    "features_dict['moderate_price'] = 2\n",
    "features_dict['high_price'] = 3\n",
    "features_dict['bundle_product'] = 4\n",
    "print max(features_dict.values())+1"
   ]
  },
  {
   "cell_type": "code",
   "execution_count": 11,
   "metadata": {
    "collapsed": false
   },
   "outputs": [
    {
     "name": "stdout",
     "output_type": "stream",
     "text": [
      "117\n"
     ]
    }
   ],
   "source": [
    "counter = max(features_dict.values())+1\n",
    "rankcats = ['top5sales', 'top100sales', 'top1000sales', 'rankedSales']\n",
    "for k, _ in SR.items():\n",
    "    for cat in rankcats:\n",
    "        to_add = cat+' in '+k\n",
    "        features_dict[to_add] = counter\n",
    "        counter += 1\n",
    "print max(features_dict.values())+1"
   ]
  },
  {
   "cell_type": "code",
   "execution_count": 12,
   "metadata": {
    "collapsed": true
   },
   "outputs": [],
   "source": [
    "counter = max(features_dict.values())+1\n",
    "for meta in all_metas:\n",
    "    meta = json.loads(meta)\n",
    "    try:\n",
    "        categories = meta['categories']\n",
    "        for i in categories[0]:\n",
    "            if i != 'Home & Kitchen' and i not in features_dict:\n",
    "                features_dict[i] = counter\n",
    "                counter += 1\n",
    "    except:\n",
    "        continue"
   ]
  },
  {
   "cell_type": "code",
   "execution_count": 13,
   "metadata": {
    "collapsed": false
   },
   "outputs": [
    {
     "data": {
      "text/plain": [
       "1205"
      ]
     },
     "execution_count": 13,
     "metadata": {},
     "output_type": "execute_result"
    }
   ],
   "source": [
    "len(features_dict.values()) # 1088 features besides Home & Kitchen'"
   ]
  },
  {
   "cell_type": "code",
   "execution_count": 14,
   "metadata": {
    "collapsed": false
   },
   "outputs": [],
   "source": [
    "featureList = open('features.txt', 'w')\n",
    "all_features = {}\n",
    "for k, v in features_dict.items():\n",
    "    all_features[v] = k\n",
    "featureList.write('FeatureID: FeatureName\\n')\n",
    "for k, v in all_features.items():\n",
    "    to_write = str(k)+': '+v+'\\n'\n",
    "    featureList.write(to_write)\n",
    "featureList.close()"
   ]
  },
  {
   "cell_type": "markdown",
   "metadata": {
    "collapsed": true
   },
   "source": [
    "##### simplify the userID and itemID"
   ]
  },
  {
   "cell_type": "code",
   "execution_count": 15,
   "metadata": {
    "collapsed": true
   },
   "outputs": [],
   "source": [
    "all_users = {}\n",
    "all_items = {}"
   ]
  },
  {
   "cell_type": "code",
   "execution_count": 16,
   "metadata": {
    "collapsed": false
   },
   "outputs": [],
   "source": [
    "user_counter = 0\n",
    "item_counter = 0\n",
    "for review in all_reviews:\n",
    "    review = json.loads(review)\n",
    "    userId = review['reviewerID']\n",
    "    item = review['asin']\n",
    "    if userId not in all_users:\n",
    "        all_users[userId] = user_counter\n",
    "        user_counter += 1\n",
    "    if item not in all_items:\n",
    "        all_items[item] = item_counter\n",
    "        item_counter += 1"
   ]
  },
  {
   "cell_type": "code",
   "execution_count": 17,
   "metadata": {
    "collapsed": true
   },
   "outputs": [],
   "source": [
    "userLookup = open('users.txt', 'w')\n",
    "newUserDict = {}\n",
    "for k, v in all_users.items():\n",
    "    newUserDict[v] = k\n",
    "userLookup.write('ReviewerID: ReviewerName\\n')\n",
    "for k, v in newUserDict.items():\n",
    "    to_write = str(k)+': '+v+'\\n'\n",
    "    userLookup.write(to_write)\n",
    "userLookup.close()"
   ]
  },
  {
   "cell_type": "code",
   "execution_count": 18,
   "metadata": {
    "collapsed": false
   },
   "outputs": [],
   "source": [
    "itemLookup = open('items.txt', 'w')\n",
    "newItemDict = {}\n",
    "for k, v in all_items.items():\n",
    "    newItemDict[v] = k\n",
    "itemLookup.write('itemID: itemName\\n')\n",
    "for k, v in newItemDict.items():\n",
    "    to_write = str(k)+': '+v+'\\n'\n",
    "    itemLookup.write(to_write)\n",
    "itemLookup.close()"
   ]
  },
  {
   "cell_type": "markdown",
   "metadata": {},
   "source": [
    "- all_users: key is reviewerName, value is reviewerID\n",
    "- all_items: key is itemName, value is itemID\n",
    "- features_dict: key is feature name, value is feature ID"
   ]
  },
  {
   "cell_type": "markdown",
   "metadata": {},
   "source": [
    "## Generate reviews.csv (user, item, rating)"
   ]
  },
  {
   "cell_type": "code",
   "execution_count": 19,
   "metadata": {
    "collapsed": true
   },
   "outputs": [],
   "source": [
    "review_dict = {}\n",
    "for review in all_reviews:\n",
    "    review = json.loads(review)\n",
    "    userName = review['reviewerID']\n",
    "    userID = all_users[userName]\n",
    "    itemName = review['asin']\n",
    "    itemID = all_items[itemName]\n",
    "    rating = int(review['overall'])\n",
    "    if userID not in review_dict:\n",
    "        review_dict[userID] = {}\n",
    "        review_dict[userID][itemID] = rating\n",
    "    elif itemID not in review_dict[userID]:\n",
    "        review_dict[userID][itemID] = rating"
   ]
  },
  {
   "cell_type": "code",
   "execution_count": 20,
   "metadata": {
    "collapsed": false
   },
   "outputs": [],
   "source": [
    "reviews = open('reviews.csv', 'w')\n",
    "for k, itemID in review_dict.items():\n",
    "    for item, rating in itemID.items():\n",
    "        to_write = str(k)+','+str(item)+','+str(rating)+'\\n'\n",
    "        reviews.write(to_write)\n",
    "reviews.close()"
   ]
  },
  {
   "cell_type": "markdown",
   "metadata": {},
   "source": [
    "## Generate items.csv (item, featureID(s) separated by comma)"
   ]
  },
  {
   "cell_type": "markdown",
   "metadata": {},
   "source": [
    "find featureID in features_dict\n",
    "- price: low_price (<250), med_price (<500), moderate_price (<750), high_price (<1000)\n",
    "- related: len(bought_together) > 0, bundle_product = 1\n",
    "- categories: anything other than 'Home & Kitchen'\n",
    "- salesRank: 'category name' + 'top5sales', 'top100sales', 'top1000sales', 'rankedSales'"
   ]
  },
  {
   "cell_type": "code",
   "execution_count": 21,
   "metadata": {
    "collapsed": false
   },
   "outputs": [],
   "source": [
    "itemFeatureDict = {}\n",
    "for meta in all_metas:\n",
    "    meta = json.loads(meta)\n",
    "    try: # some item information is not provided\n",
    "        # get itemID\n",
    "        itemName = meta['asin']\n",
    "        itemID = all_items[itemName]\n",
    "        if itemID not in itemFeatureDict:\n",
    "            itemFeatureDict[itemID] = []\n",
    "\n",
    "        # generate price feature\n",
    "        try:\n",
    "            p = meta['price']\n",
    "            if p > 0.0 and p <= 250.0:\n",
    "                pricefeature = 'low_price'\n",
    "            elif p > 250.0 and p <= 500.0:\n",
    "                pricefeature = 'med_price'\n",
    "            elif p > 500.0 and p <= 750.0:\n",
    "                pricefeature = 'moderate_price'\n",
    "            elif p > 750.0 and p <= 1000.0:\n",
    "                pricefeature = 'moderate_price'\n",
    "            itemFeatureDict[itemID].append(features_dict[pricefeature])\n",
    "        except KeyError:\n",
    "            pass\n",
    "\n",
    "        # generate related feature\n",
    "        try:\n",
    "            _ = meta['related']['bought_together'] # if it goes through, it is > 0\n",
    "            itemFeatureDict[itemID].append(features_dict['bundle_product'])\n",
    "        except KeyError:\n",
    "            pass\n",
    "\n",
    "        # generate category feature\n",
    "        try:\n",
    "            cats = meta['categories'][0]\n",
    "            for i in cats:\n",
    "                itemFeatureDict[itemID].append(features_dict[i])\n",
    "        except KeyError:\n",
    "            pass\n",
    "\n",
    "        # generate salesRank feature\n",
    "        try:\n",
    "            sr = meta['salesRank']\n",
    "            for category, ranking in sr.items():\n",
    "                if int(ranking) >  0 and int(ranking) <= 5:\n",
    "                    rankType = 'top5sales'\n",
    "                elif int(ranking) >  5 and int(ranking) <= 100:\n",
    "                    rankType = 'top100sales'\n",
    "                elif int(ranking) >  100 and int(ranking) <= 1000:\n",
    "                    rankType = 'top1000sales'\n",
    "                else:\n",
    "                    rankType = 'rankedSales'\n",
    "                to_look_up = rankType+' in '+category\n",
    "                sr_ID = features_dict[to_look_up]\n",
    "                itemFeatureDict[itemID].append(sr_ID)\n",
    "        except KeyError:\n",
    "            pass\n",
    "    except KeyError:\n",
    "        continue"
   ]
  },
  {
   "cell_type": "code",
   "execution_count": 22,
   "metadata": {
    "collapsed": false
   },
   "outputs": [],
   "source": [
    "features = open('itemFeatures.csv', 'w')\n",
    "for k, featureList in itemFeatureDict.items():\n",
    "    if len(featureList) > 0:\n",
    "        to_write = str(k)+','\n",
    "        for feature in featureList:\n",
    "            to_write+=str(feature)+','\n",
    "        features.write(to_write+'\\n')\n",
    "    else: # skip those that don't have features\n",
    "        continue\n",
    "features.close()"
   ]
  }
 ],
 "metadata": {
  "kernelspec": {
   "display_name": "Python 2",
   "language": "python",
   "name": "python2"
  },
  "language_info": {
   "codemirror_mode": {
    "name": "ipython",
    "version": 2
   },
   "file_extension": ".py",
   "mimetype": "text/x-python",
   "name": "python",
   "nbconvert_exporter": "python",
   "pygments_lexer": "ipython2",
   "version": "2.7.13"
  }
 },
 "nbformat": 4,
 "nbformat_minor": 2
}
